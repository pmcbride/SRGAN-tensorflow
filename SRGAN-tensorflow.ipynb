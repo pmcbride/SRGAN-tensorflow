{
 "cells": [
  {
   "cell_type": "markdown",
   "metadata": {},
   "source": [
    "# SRGAN-Tensorflow\n",
    "https://github.com/brade31919/SRGAN-tensorflow"
   ]
  },
  {
   "cell_type": "markdown",
   "metadata": {},
   "source": [
    "### Train SRResnet"
   ]
  },
  {
   "cell_type": "code",
   "execution_count": null,
   "metadata": {},
   "outputs": [],
   "source": [
    "# %load train_SRResnet.sh\n",
    "#!/usr/bin/env bash\n",
    "CUDA_VISIBLE_DEVICES=0 python main.py \\\n",
    "    --output_dir ./experiment_SRResnet/ \\\n",
    "    --summary_dir ./experiment_SRResnet/log/ \\\n",
    "    --mode train \\\n",
    "    --is_training True \\\n",
    "    --task SRResnet \\\n",
    "    --batch_size 2 \\\n",
    "    --flip True \\\n",
    "    --random_crop True \\\n",
    "    --crop_size 24 \\\n",
    "    --input_dir_LR ./data/test_LR/ \\\n",
    "    --input_dir_HR ./data/test_HR/ \\\n",
    "    --num_resblock 16 \\\n",
    "    --name_queue_capacity 4096 \\\n",
    "    --image_queue_capacity 4096 \\\n",
    "    --perceptual_mode MSE \\\n",
    "    --queue_thread 4 \\\n",
    "    --ratio 0.001 \\\n",
    "    --learning_rate 0.0001 \\\n",
    "    --decay_step 400000 \\\n",
    "    --decay_rate 0.1 \\\n",
    "    --stair False \\\n",
    "    --beta 0.9 \\\n",
    "    --max_iter 1000000 \\\n",
    "    --save_freq 20000\n",
    "\n"
   ]
  },
  {
   "cell_type": "code",
   "execution_count": null,
   "metadata": {},
   "outputs": [],
   "source": [
    "%env CUDA_VISIBLE_DEVICES=0\n",
    "%run main.py \\\n",
    "    --output_dir ./experiment_SRResnet/ \\\n",
    "    --summary_dir ./experiment_SRResnet/log/ \\\n",
    "    --mode train \\\n",
    "    --is_training True \\\n",
    "    --task SRResnet \\\n",
    "    --batch_size 2 \\\n",
    "    --flip True \\\n",
    "    --random_crop True \\\n",
    "    --crop_size 24 \\\n",
    "    --input_dir_LR ./data/test_LR/ \\\n",
    "    --input_dir_HR ./data/test_HR/ \\\n",
    "    --num_resblock 16 \\\n",
    "    --name_queue_capacity 4096 \\\n",
    "    --image_queue_capacity 4096 \\\n",
    "    --perceptual_mode MSE \\\n",
    "    --queue_thread 4 \\\n",
    "    --ratio 0.001 \\\n",
    "    --learning_rate 0.0001 \\\n",
    "    --decay_step 400000 \\\n",
    "    --decay_rate 0.1 \\\n",
    "    --stair False \\\n",
    "    --beta 0.9 \\\n",
    "    --max_iter 1000000 \\\n",
    "    --save_freq 20000 \\\n",
    "    --pre_trained_model False \\\n",
    "    --checkpoint ./experiment_SRResnet/model-80000"
   ]
  },
  {
   "cell_type": "markdown",
   "metadata": {},
   "source": [
    "### Train SRGAN with MSE Loss"
   ]
  },
  {
   "cell_type": "code",
   "execution_count": null,
   "metadata": {},
   "outputs": [],
   "source": [
    "# %load train_SRGAN.sh\n",
    "#!/usr/bin/env bash\n",
    "CUDA_VISIBLE_DEVICES=0 python main.py \\\n",
    "    --output_dir ./experiment_SRGAN_VGG54/ \\\n",
    "    --summary_dir ./experiment_SRGAN_VGG54/log/ \\\n",
    "    --mode train \\\n",
    "    --is_training True \\\n",
    "    --task SRGAN \\\n",
    "    --batch_size 16 \\\n",
    "    --flip True \\\n",
    "    --random_crop True \\\n",
    "    --crop_size 24 \\\n",
    "    --input_dir_LR ./data/RAISE_LR/ \\\n",
    "    --input_dir_HR ./data/RAISE_HR/ \\\n",
    "    --num_resblock 16 \\\n",
    "    --perceptual_mode VGG54 \\\n",
    "    --name_queue_capacity 4096 \\\n",
    "    --image_queue_capacity 4096 \\\n",
    "    --ratio 0.001 \\\n",
    "    --learning_rate 0.0001 \\\n",
    "    --decay_step 100000 \\\n",
    "    --decay_rate 0.1 \\\n",
    "    --stair True \\\n",
    "    --beta 0.9 \\\n",
    "    --max_iter 200000 \\\n",
    "    --queue_thread 10 \\\n",
    "    --vgg_scaling 0.0061 \\\n",
    "    --pre_trained_model True \\\n",
    "    --checkpoint ./experiment_SRGAN_MSE/model-500000\n",
    "\n"
   ]
  },
  {
   "cell_type": "markdown",
   "metadata": {},
   "source": [
    "#### modified"
   ]
  },
  {
   "cell_type": "code",
   "execution_count": null,
   "metadata": {},
   "outputs": [],
   "source": [
    "%env CUDA_VISIBLE_DEVICES=0\n",
    "%run main.py \\\n",
    "    --output_dir ./experiment_SRGAN_MSE/ \\\n",
    "    --summary_dir ./experiment_SRGAN_MSE/log/ \\\n",
    "    --mode train \\\n",
    "    --is_training True \\\n",
    "    --task SRGAN \\\n",
    "    --batch_size 4 \\\n",
    "    --flip True \\\n",
    "    --random_crop True \\\n",
    "    --crop_size 24 \\\n",
    "    --input_dir_LR ./data/train_LR/ \\\n",
    "    --input_dir_HR ./data/train_HR/ \\\n",
    "    --num_resblock 16 \\\n",
    "    --perceptual_mode MSE \\\n",
    "    --name_queue_capacity 4096 \\\n",
    "    --image_queue_capacity 4096 \\\n",
    "    --ratio 0.001 \\\n",
    "    --learning_rate 0.0001 \\\n",
    "    --decay_step 500000 \\\n",
    "    --decay_rate 0.5 \\\n",
    "    --stair True \\\n",
    "    --beta 0.9 \\\n",
    "    --max_iter 200000 \\\n",
    "    --queue_thread 8 \\\n",
    "    --vgg_scaling 0.0061 \\\n",
    "    --pre_trained_model True \\\n",
    "    --save_freq 20000 \\\n",
    "    --checkpoint ./experiment_SRResnet/model-60000"
   ]
  },
  {
   "cell_type": "markdown",
   "metadata": {},
   "source": [
    "### Train SRGAN with VGG54 perceptual loss"
   ]
  },
  {
   "cell_type": "code",
   "execution_count": null,
   "metadata": {},
   "outputs": [],
   "source": [
    "%env CUDA_VISIBLE_DEVICES=0\n",
    "%run main.py \\\n",
    "    --output_dir ./experiment_SRGAN_VGG54/ \\\n",
    "    --summary_dir ./experiment_SRGAN_VGG54/log/ \\\n",
    "    --mode train \\\n",
    "    --is_training True \\\n",
    "    --task SRGAN \\\n",
    "    --batch_size 4 \\\n",
    "    --flip True \\\n",
    "    --random_crop True \\\n",
    "    --crop_size 24 \\\n",
    "    --input_dir_LR ./data/train_LR/ \\\n",
    "    --input_dir_HR ./data/train_HR/ \\\n",
    "    --num_resblock 16 \\\n",
    "    --perceptual_mode VGG54 \\\n",
    "    --name_queue_capacity 4096 \\\n",
    "    --image_queue_capacity 4096 \\\n",
    "    --ratio 0.001 \\\n",
    "    --learning_rate 0.0001 \\\n",
    "    --decay_step 100000 \\\n",
    "    --decay_rate 0.1 \\\n",
    "    --stair True \\\n",
    "    --beta 0.9 \\\n",
    "    --max_iter 200000 \\\n",
    "    --queue_thread 8 \\\n",
    "    --vgg_scaling 0.0061 \\\n",
    "    --pre_trained_model True \\\n",
    "    --save_freq 20000 \\\n",
    "    --checkpoint ./experiment_SRGAN_MSE/model-20000"
   ]
  },
  {
   "cell_type": "markdown",
   "metadata": {},
   "source": [
    "### Run test using pre-trained model"
   ]
  },
  {
   "cell_type": "code",
   "execution_count": null,
   "metadata": {},
   "outputs": [],
   "source": [
    "# %load test_SRGAN.sh\n",
    "#!/usr/bin/env bash\n",
    "CUDA_VISIBLE_DEVICES=0 python main.py \\\n",
    "    --output_dir ./result/ \\\n",
    "    --summary_dir ./result/log/ \\\n",
    "    --mode test \\\n",
    "    --is_training False \\\n",
    "    --task SRGAN \\\n",
    "    --batch_size 16 \\\n",
    "    --input_dir_LR ./data/test_LR/ \\\n",
    "    --input_dir_HR ./data/test_HR/ \\\n",
    "    --num_resblock 16 \\\n",
    "    --perceptual_mode VGG54 \\\n",
    "    --pre_trained_model True \\\n",
    "    --checkpoint ./SRGAN_pre-trained/model-200000\n",
    "\n"
   ]
  },
  {
   "cell_type": "code",
   "execution_count": null,
   "metadata": {},
   "outputs": [],
   "source": [
    "%env CUDA_VISIBLE_DEVICES=0\n",
    "%run main.py \\\n",
    "    --output_dir ./result/ \\\n",
    "    --summary_dir ./result/log/ \\\n",
    "    --mode test \\\n",
    "    --is_training False \\\n",
    "    --task SRGAN \\\n",
    "    --batch_size 16 \\\n",
    "    --input_dir_LR ./data/test_LR/ \\\n",
    "    --input_dir_HR ./data/test_HR/ \\\n",
    "    --num_resblock 16 \\\n",
    "    --perceptual_mode MSE \\\n",
    "    --pre_trained_model True \\\n",
    "    --checkpoint ./SRGAN_pre-trained/model-60000"
   ]
  },
  {
   "cell_type": "markdown",
   "metadata": {},
   "source": [
    "### Run inference using pre-trained model"
   ]
  },
  {
   "cell_type": "code",
   "execution_count": null,
   "metadata": {},
   "outputs": [],
   "source": [
    "# %load inference_SRGAN.sh\n",
    "#!/usr/bin/env bash\n",
    "CUDA_VISIBLE_DEVICES=0 python main.py \\\n",
    "    --output_dir ./result/ \\\n",
    "    --summary_dir ./result/log/ \\\n",
    "    --mode inference \\\n",
    "    --is_training False \\\n",
    "    --task SRGAN \\\n",
    "    --input_dir_LR ./data/test_LR/ \\\n",
    "    --num_resblock 16 \\\n",
    "    --perceptual_mode VGG54 \\\n",
    "    --pre_trained_model True \\\n",
    "    --checkpoint ./SRGAN_pre-trained/model-200000"
   ]
  },
  {
   "cell_type": "code",
   "execution_count": null,
   "metadata": {},
   "outputs": [],
   "source": [
    "%env CUDA_VISIBLE_DEVICES=0\n",
    "%run main.py \\\n",
    "    --output_dir ./result/ \\\n",
    "    --summary_dir ./result/log/ \\\n",
    "    --mode inference \\\n",
    "    --is_training False \\\n",
    "    --task SRResnet \\\n",
    "    --input_dir_LR ./data/test_LR/ \\\n",
    "    --num_resblock 16 \\\n",
    "    --perceptual_mode MSE \\\n",
    "    --pre_trained_model True \\\n",
    "    --checkpoint ./experiment_SRResnet/old_models/model-80000"
   ]
  },
  {
   "cell_type": "code",
   "execution_count": null,
   "metadata": {},
   "outputs": [],
   "source": []
  }
 ],
 "metadata": {
  "kernelspec": {
   "display_name": "Python 3",
   "language": "python",
   "name": "python3"
  },
  "language_info": {
   "codemirror_mode": {
    "name": "ipython",
    "version": 3
   },
   "file_extension": ".py",
   "mimetype": "text/x-python",
   "name": "python",
   "nbconvert_exporter": "python",
   "pygments_lexer": "ipython3",
   "version": "3.6.8"
  }
 },
 "nbformat": 4,
 "nbformat_minor": 2
}
