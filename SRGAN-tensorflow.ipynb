{
 "cells": [
  {
   "cell_type": "markdown",
   "metadata": {},
   "source": [
    "# SRGAN-Tensorflow\n",
    "https://github.com/brade31919/SRGAN-tensorflow"
   ]
  },
  {
   "cell_type": "markdown",
   "metadata": {},
   "source": [
    "### Run test using pre-trained model"
   ]
  },
  {
   "cell_type": "code",
   "execution_count": null,
   "metadata": {},
   "outputs": [],
   "source": [
    "# %load test_SRGAN.sh\n",
    "#!/usr/bin/env bash\n",
    "CUDA_VISIBLE_DEVICES=0 python main.py \\\n",
    "    --output_dir ./result/ \\\n",
    "    --summary_dir ./result/log/ \\\n",
    "    --mode test \\\n",
    "    --is_training False \\\n",
    "    --task SRGAN \\\n",
    "    --batch_size 16 \\\n",
    "    --input_dir_LR ./data/test_LR/ \\\n",
    "    --input_dir_HR ./data/test_HR/ \\\n",
    "    --num_resblock 16 \\\n",
    "    --perceptual_mode VGG54 \\\n",
    "    --pre_trained_model True \\\n",
    "    --checkpoint ./SRGAN_pre-trained/model-200000\n",
    "\n"
   ]
  },
  {
   "cell_type": "code",
   "execution_count": null,
   "metadata": {},
   "outputs": [],
   "source": [
    "%env CUDA_VISIBLE_DEVICES=0\n",
    "%run main.py \\\n",
    "    --output_dir ./p_result/ \\\n",
    "    --summary_dir ./p_result/log/ \\\n",
    "    --mode test \\\n",
    "    --is_training False \\\n",
    "    --task SRGAN \\\n",
    "    --batch_size 16 \\\n",
    "    --input_dir_LR ./data/ptest_LR/ \\\n",
    "    --input_dir_HR ./data/ptest_HR/ \\\n",
    "    --num_resblock 16 \\\n",
    "    --perceptual_mode VGG54 \\\n",
    "    --pre_trained_model True \\\n",
    "    --checkpoint ./SRGAN_pre-trained/model-200000"
   ]
  },
  {
   "cell_type": "markdown",
   "metadata": {},
   "source": [
    "### Run inference using pre-trained model"
   ]
  },
  {
   "cell_type": "code",
   "execution_count": null,
   "metadata": {},
   "outputs": [],
   "source": [
    "# %load inference_SRGAN.sh\n",
    "#!/usr/bin/env bash\n",
    "CUDA_VISIBLE_DEVICES=0 python main.py \\\n",
    "    --output_dir ./result/ \\\n",
    "    --summary_dir ./result/log/ \\\n",
    "    --mode inference \\\n",
    "    --is_training False \\\n",
    "    --task SRGAN \\\n",
    "    --input_dir_LR ./data/test_LR/ \\\n",
    "    --num_resblock 16 \\\n",
    "    --perceptual_mode VGG54 \\\n",
    "    --pre_trained_model True \\\n",
    "    --checkpoint ./SRGAN_pre-trained/model-200000"
   ]
  },
  {
   "cell_type": "code",
   "execution_count": null,
   "metadata": {},
   "outputs": [],
   "source": [
    "%env CUDA_VISIBLE_DEVICES=0\n",
    "%run main.py \\\n",
    "    --output_dir ./p_result/ \\\n",
    "    --summary_dir ./p_result/log/ \\\n",
    "    --mode inference \\\n",
    "    --is_training False \\\n",
    "    --task SRGAN \\\n",
    "    --input_dir_LR ./data/ptest_LR/ \\\n",
    "    --num_resblock 16 \\\n",
    "    --perceptual_mode VGG54 \\\n",
    "    --pre_trained_model True \\\n",
    "    --checkpoint ./SRGAN_pre-trained/model-200000"
   ]
  },
  {
   "cell_type": "code",
   "execution_count": null,
   "metadata": {},
   "outputs": [],
   "source": [
    "### "
   ]
  }
 ],
 "metadata": {
  "kernelspec": {
   "display_name": "DataSciPy",
   "language": "python",
   "name": "datascipy"
  },
  "language_info": {
   "codemirror_mode": {
    "name": "ipython",
    "version": 3
   },
   "file_extension": ".py",
   "mimetype": "text/x-python",
   "name": "python",
   "nbconvert_exporter": "python",
   "pygments_lexer": "ipython3",
   "version": "3.6.6"
  }
 },
 "nbformat": 4,
 "nbformat_minor": 2
}
